{
 "cells": [
  {
   "cell_type": "markdown",
   "id": "07197faa",
   "metadata": {},
   "source": [
    "Q1 Why are functions advantageous to have in your programs?\n",
    "\n",
    "Ans: Reduce code duplicacy and made program short and efficient "
   ]
  },
  {
   "cell_type": "markdown",
   "id": "b06cddb6",
   "metadata": {},
   "source": [
    "Q2 When does the code in a function run: when it's specified or when it's called?\n",
    "\n",
    "Ans: When it's called"
   ]
  },
  {
   "cell_type": "markdown",
   "id": "fce2ae9f",
   "metadata": {},
   "source": [
    "Q3 What statement creates a function?\n",
    "\n",
    "Ans: Def keyword"
   ]
  },
  {
   "cell_type": "markdown",
   "id": "fe5fb562",
   "metadata": {},
   "source": [
    "Q4 What is the difference between a function and a function call\n",
    "\n",
    "Ans: Function is the set of code which basically created to perform a particuler task, Whereas fucntion call is the process to use it."
   ]
  },
  {
   "cell_type": "markdown",
   "id": "206079f1",
   "metadata": {},
   "source": [
    "Q5 How many global scopes are there in a Python program? How many local scopes?\n",
    "\n",
    "Ans: Single global scope"
   ]
  },
  {
   "cell_type": "markdown",
   "id": "eb623507",
   "metadata": {},
   "source": [
    "Q6 What happens to variables in a local scope when the function call returns?\n",
    "\n",
    "Ans: It won't work and destroyed"
   ]
  },
  {
   "cell_type": "markdown",
   "id": "9bbc4659",
   "metadata": {},
   "source": [
    "Q7What is the concept of a return value? Is it possible to have a return value in an expression?\n",
    "\n",
    "Ans: The output provided by the function is known as return value. Yes expression can return value"
   ]
  },
  {
   "cell_type": "markdown",
   "id": "0627c3e5",
   "metadata": {},
   "source": [
    "Q8 If a function does not have a return statement, what is the return value of a call to that function?\n",
    "\n",
    "Ans: if a function does not have a return statement python always return a default value as None"
   ]
  },
  {
   "cell_type": "markdown",
   "id": "21f7e66b",
   "metadata": {},
   "source": [
    "Q9 How do you make a function variable refer to the global variable?\n",
    "\n",
    "Ans: Use global keyword inside the function"
   ]
  },
  {
   "cell_type": "markdown",
   "id": "bb09e736",
   "metadata": {},
   "source": [
    "Q10 What is the data type of None?\n",
    "\n",
    "Ans: None data type used for null value"
   ]
  },
  {
   "cell_type": "markdown",
   "id": "dfa5c62f",
   "metadata": {},
   "source": [
    "Q11 What does the sentence import areallyourpetsnamederic do?\n",
    "\n",
    "Ans: import a module as areallyourpetsnamederic"
   ]
  },
  {
   "cell_type": "markdown",
   "id": "06d59541",
   "metadata": {},
   "source": [
    "Q12 If you had a bacon() feature in a spam module, what would you call it after importing spam?\n",
    "\n",
    "\n",
    "Ans: spam.bacom()"
   ]
  },
  {
   "cell_type": "markdown",
   "id": "1a69a028",
   "metadata": {},
   "source": [
    "Q13 What can you do to save a programme from crashing if it encounters an error?\n",
    "\n",
    "Ans: We can copy/move entire code inisde try and except block"
   ]
  },
  {
   "cell_type": "markdown",
   "id": "5b10f268",
   "metadata": {},
   "source": [
    "Q14 What is the purpose of the try clause? What is the purpose of the except clause?\n",
    "\n",
    "Ans: Try test a set of code for errors and except clause give programmer to handle it. "
   ]
  },
  {
   "cell_type": "code",
   "execution_count": null,
   "id": "dfc3af5f",
   "metadata": {},
   "outputs": [],
   "source": []
  }
 ],
 "metadata": {
  "kernelspec": {
   "display_name": "Python 3 (ipykernel)",
   "language": "python",
   "name": "python3"
  },
  "language_info": {
   "codemirror_mode": {
    "name": "ipython",
    "version": 3
   },
   "file_extension": ".py",
   "mimetype": "text/x-python",
   "name": "python",
   "nbconvert_exporter": "python",
   "pygments_lexer": "ipython3",
   "version": "3.9.12"
  }
 },
 "nbformat": 4,
 "nbformat_minor": 5
}
