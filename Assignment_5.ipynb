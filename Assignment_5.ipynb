{
 "cells": [
  {
   "cell_type": "code",
   "execution_count": 3,
   "id": "6bd517e0",
   "metadata": {},
   "outputs": [],
   "source": [
    "#Q1: What does an empty dictionary&#39;s code look like?\n",
    "\n",
    "data = {\n",
    "    \n",
    "}"
   ]
  },
  {
   "cell_type": "code",
   "execution_count": 4,
   "id": "2a329893",
   "metadata": {},
   "outputs": [],
   "source": [
    "#Q2: What is the value of a dictionary value with the key 'foo' and the value 42?\n",
    "# foo is key and 42 is value\n",
    "data = {\"foo\": 42\n",
    "    \n",
    "}"
   ]
  },
  {
   "cell_type": "code",
   "execution_count": 5,
   "id": "e657856e",
   "metadata": {},
   "outputs": [
    {
     "data": {
      "text/plain": [
       "{'foo': 42}"
      ]
     },
     "execution_count": 5,
     "metadata": {},
     "output_type": "execute_result"
    }
   ],
   "source": [
    "data"
   ]
  },
  {
   "cell_type": "code",
   "execution_count": null,
   "id": "befb1ddd",
   "metadata": {},
   "outputs": [],
   "source": [
    "#Q3: What is the most significant distinction between a dictionary and a list?\n",
    "\n",
    "Ordering issue\n",
    "\n",
    "List = Items in order\n",
    "Dcitionary = Items not in order"
   ]
  },
  {
   "cell_type": "code",
   "execution_count": 9,
   "id": "7beb87f9",
   "metadata": {},
   "outputs": [
    {
     "data": {
      "text/plain": [
       "{'bar': 100}"
      ]
     },
     "execution_count": 9,
     "metadata": {},
     "output_type": "execute_result"
    }
   ],
   "source": [
    "#Q4: What happens if you try to access spam[&#39;foo&#39;] if spam is {&#39;bar&#39;: 100}?\n",
    "\n",
    "spam = {\"bar\" : 100\n",
    "    \n",
    "}\n",
    "\n",
    "spam"
   ]
  },
  {
   "cell_type": "code",
   "execution_count": 10,
   "id": "e4a98f27",
   "metadata": {},
   "outputs": [
    {
     "ename": "KeyError",
     "evalue": "'foo'",
     "output_type": "error",
     "traceback": [
      "\u001b[1;31m---------------------------------------------------------------------------\u001b[0m",
      "\u001b[1;31mKeyError\u001b[0m                                  Traceback (most recent call last)",
      "Input \u001b[1;32mIn [10]\u001b[0m, in \u001b[0;36m<cell line: 1>\u001b[1;34m()\u001b[0m\n\u001b[1;32m----> 1\u001b[0m \u001b[43mspam\u001b[49m\u001b[43m[\u001b[49m\u001b[38;5;124;43m\"\u001b[39;49m\u001b[38;5;124;43mfoo\u001b[39;49m\u001b[38;5;124;43m\"\u001b[39;49m\u001b[43m]\u001b[49m\n",
      "\u001b[1;31mKeyError\u001b[0m: 'foo'"
     ]
    }
   ],
   "source": [
    "spam[\"foo\"]"
   ]
  },
  {
   "cell_type": "code",
   "execution_count": 12,
   "id": "2899e90a",
   "metadata": {},
   "outputs": [],
   "source": [
    "#Q5: If a dictionary is stored in spam, what is the difference between the expressions &#39;cat&#39; in spam and &#39;cat&#39; in spam.keys()?\n",
    "\n",
    "spam = {\"cat\": 50\n",
    "    \n",
    "}"
   ]
  },
  {
   "cell_type": "code",
   "execution_count": 14,
   "id": "c499aa66",
   "metadata": {},
   "outputs": [
    {
     "data": {
      "text/plain": [
       "True"
      ]
     },
     "execution_count": 14,
     "metadata": {},
     "output_type": "execute_result"
    }
   ],
   "source": [
    "spam\n",
    "\"cat\" in spam"
   ]
  },
  {
   "cell_type": "code",
   "execution_count": 16,
   "id": "5bac6c33",
   "metadata": {},
   "outputs": [
    {
     "data": {
      "text/plain": [
       "True"
      ]
     },
     "execution_count": 16,
     "metadata": {},
     "output_type": "execute_result"
    }
   ],
   "source": [
    "\"cat\" in spam.keys()\n"
   ]
  },
  {
   "cell_type": "code",
   "execution_count": 17,
   "id": "a65fae33",
   "metadata": {},
   "outputs": [
    {
     "data": {
      "text/plain": [
       "False"
      ]
     },
     "execution_count": 17,
     "metadata": {},
     "output_type": "execute_result"
    }
   ],
   "source": [
    "#Q6: If a dictionary is stored in spam, what is the difference between the expressions &#39;cat&#39; in spam and\n",
    "&#39;cat&#39; in spam.values()?\n",
    "\n",
    "\"cat\" in spam.values() "
   ]
  },
  {
   "cell_type": "code",
   "execution_count": 18,
   "id": "d76bfc5f",
   "metadata": {},
   "outputs": [
    {
     "data": {
      "text/plain": [
       "True"
      ]
     },
     "execution_count": 18,
     "metadata": {},
     "output_type": "execute_result"
    }
   ],
   "source": [
    "\"cat\" in spam"
   ]
  },
  {
   "cell_type": "code",
   "execution_count": 20,
   "id": "b134c02a",
   "metadata": {},
   "outputs": [],
   "source": [
    "#Q7: What is a shortcut for the following code?\n",
    "#if &#39;color&#39; not in spam:\n",
    "#spam[&#39;color&#39;] = &#39;black&#39;\n",
    "\n",
    "# we can use setdefault()\n",
    "spam = {\"dog\": 20\n",
    "    \n",
    "}\n"
   ]
  },
  {
   "cell_type": "code",
   "execution_count": 25,
   "id": "ce3b1f10",
   "metadata": {},
   "outputs": [
    {
     "data": {
      "text/plain": [
       "{'dog': 20, 'color': 'Black'}"
      ]
     },
     "execution_count": 25,
     "metadata": {},
     "output_type": "execute_result"
    }
   ],
   "source": [
    "spam\n",
    "spam.setdefault(\"color\", \"Black\")\n",
    "spam"
   ]
  },
  {
   "cell_type": "code",
   "execution_count": 28,
   "id": "cf3a552c",
   "metadata": {},
   "outputs": [],
   "source": [
    "#Q8: How do you &quot;pretty print&quot; dictionary values using which module and function?\n",
    "\n",
    "import pprint\n",
    "\n",
    "data =[ {'Name': 'Viru', 'Age': '30', 'Country': 'india'},\n",
    "  {'Name': 'Hemu', 'Age': '32', 'Country': 'USA'},\n",
    "  {'Name': 'Naru', 'Age': '31', 'Country': 'UK'},\n",
    "  {'Name': 'Vijju', 'Age': '29', 'Country': 'singhapur'}\n",
    "]"
   ]
  },
  {
   "cell_type": "code",
   "execution_count": 29,
   "id": "c346e6a1",
   "metadata": {},
   "outputs": [
    {
     "data": {
      "text/plain": [
       "[{'Name': 'Viru', 'Age': '30', 'Country': 'india'},\n",
       " {'Name': 'Hemu', 'Age': '32', 'Country': 'USA'},\n",
       " {'Name': 'Naru', 'Age': '31', 'Country': 'UK'},\n",
       " {'Name': 'Vijju', 'Age': '29', 'Country': 'singhapur'}]"
      ]
     },
     "execution_count": 29,
     "metadata": {},
     "output_type": "execute_result"
    }
   ],
   "source": [
    "data"
   ]
  },
  {
   "cell_type": "code",
   "execution_count": 31,
   "id": "fd0f3023",
   "metadata": {},
   "outputs": [
    {
     "name": "stdout",
     "output_type": "stream",
     "text": [
      "[{'Age': '30', 'Country': 'india', 'Name': 'Viru'},\n",
      " {'Age': '32', 'Country': 'USA', 'Name': 'Hemu'},\n",
      " {'Age': '31', 'Country': 'UK', 'Name': 'Naru'},\n",
      " {'Age': '29', 'Country': 'singhapur', 'Name': 'Vijju'}]\n"
     ]
    }
   ],
   "source": [
    "pprint.pprint(data)"
   ]
  },
  {
   "cell_type": "code",
   "execution_count": null,
   "id": "fb0375ea",
   "metadata": {},
   "outputs": [],
   "source": []
  },
  {
   "cell_type": "code",
   "execution_count": null,
   "id": "1bf3d44b",
   "metadata": {},
   "outputs": [],
   "source": []
  }
 ],
 "metadata": {
  "kernelspec": {
   "display_name": "Python 3 (ipykernel)",
   "language": "python",
   "name": "python3"
  },
  "language_info": {
   "codemirror_mode": {
    "name": "ipython",
    "version": 3
   },
   "file_extension": ".py",
   "mimetype": "text/x-python",
   "name": "python",
   "nbconvert_exporter": "python",
   "pygments_lexer": "ipython3",
   "version": "3.9.12"
  }
 },
 "nbformat": 4,
 "nbformat_minor": 5
}
