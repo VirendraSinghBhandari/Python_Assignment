{
 "cells": [
  {
   "cell_type": "markdown",
   "id": "8c74e544",
   "metadata": {},
   "source": [
    "Q1: What exactly is []?\n",
    "\n",
    "Ans: Empty List\n",
    "    "
   ]
  },
  {
   "cell_type": "code",
   "execution_count": 18,
   "id": "d0446d6b",
   "metadata": {},
   "outputs": [],
   "source": [
    "#Let's pretend the spam includes the list ['a', 'b', 'c', 'd'] for the next three queries.\n",
    "spam = ['a', 'b', 'c', 'd'] "
   ]
  },
  {
   "cell_type": "code",
   "execution_count": 19,
   "id": "6d69ec57",
   "metadata": {},
   "outputs": [
    {
     "data": {
      "text/plain": [
       "'d'"
      ]
     },
     "execution_count": 19,
     "metadata": {},
     "output_type": "execute_result"
    }
   ],
   "source": [
    "#Q3What is the value of spam[int(int('3' * 2) / 11)]?\n",
    "spam[int(int('3' * 2) / 11)]"
   ]
  },
  {
   "cell_type": "code",
   "execution_count": 20,
   "id": "49fc0269",
   "metadata": {},
   "outputs": [
    {
     "data": {
      "text/plain": [
       "'d'"
      ]
     },
     "execution_count": 20,
     "metadata": {},
     "output_type": "execute_result"
    }
   ],
   "source": [
    "spam[-1]"
   ]
  },
  {
   "cell_type": "code",
   "execution_count": 21,
   "id": "ee5ccea3",
   "metadata": {},
   "outputs": [
    {
     "data": {
      "text/plain": [
       "['a', 'b']"
      ]
     },
     "execution_count": 21,
     "metadata": {},
     "output_type": "execute_result"
    }
   ],
   "source": [
    "spam[:2]"
   ]
  },
  {
   "cell_type": "code",
   "execution_count": 12,
   "id": "93ed4296",
   "metadata": {},
   "outputs": [
    {
     "data": {
      "text/plain": [
       "[2, 4, 'hello', 8, 10]"
      ]
     },
     "execution_count": 12,
     "metadata": {},
     "output_type": "execute_result"
    }
   ],
   "source": [
    "#Q2: In a list of values stored in a variable called spam, how would you assign the value 'hello' \n",
    "#as the third value? (Assume [2, 4, 6, 8, 10] are in spam.)\n",
    "\n",
    "spam = [2, 4, 6, 8, 10] \n",
    "spam[2] = \"hello\"\n",
    "spam"
   ]
  },
  {
   "cell_type": "code",
   "execution_count": null,
   "id": "d0ba1e33",
   "metadata": {},
   "outputs": [],
   "source": []
  },
  {
   "cell_type": "code",
   "execution_count": 34,
   "id": "d1aed54e",
   "metadata": {},
   "outputs": [
    {
     "data": {
      "text/plain": [
       "[3.14, 'cat', 11, 'cat', True]"
      ]
     },
     "execution_count": 34,
     "metadata": {},
     "output_type": "execute_result"
    }
   ],
   "source": [
    "becon = [3.14, \"cat\", 11,\"cat\", True]\n",
    "becon\n"
   ]
  },
  {
   "cell_type": "code",
   "execution_count": 35,
   "id": "683d04bc",
   "metadata": {},
   "outputs": [
    {
     "data": {
      "text/plain": [
       "1"
      ]
     },
     "execution_count": 35,
     "metadata": {},
     "output_type": "execute_result"
    }
   ],
   "source": [
    "#Q6: What is the value of bacon.index('cat')?\n",
    "becon.index(\"cat\")"
   ]
  },
  {
   "cell_type": "code",
   "execution_count": 36,
   "id": "917c712b",
   "metadata": {},
   "outputs": [],
   "source": [
    "#Q7:How does bacon.append(99) change the look of the list value in bacon?\n",
    "becon.append(99)"
   ]
  },
  {
   "cell_type": "code",
   "execution_count": 39,
   "id": "ffb18d53",
   "metadata": {},
   "outputs": [
    {
     "data": {
      "text/plain": [
       "[3.14, 11, 'cat', True, 99]"
      ]
     },
     "execution_count": 39,
     "metadata": {},
     "output_type": "execute_result"
    }
   ],
   "source": [
    "becon"
   ]
  },
  {
   "cell_type": "code",
   "execution_count": 38,
   "id": "cafab43c",
   "metadata": {},
   "outputs": [],
   "source": [
    "#Q8:How does bacon.remove('cat') change the look of the list in bacon?\n",
    "becon.remove(\"cat\")"
   ]
  },
  {
   "cell_type": "code",
   "execution_count": 40,
   "id": "633c0bf3",
   "metadata": {},
   "outputs": [
    {
     "data": {
      "text/plain": [
       "[3.14, 11, 'cat', True, 99]"
      ]
     },
     "execution_count": 40,
     "metadata": {},
     "output_type": "execute_result"
    }
   ],
   "source": [
    "becon"
   ]
  },
  {
   "cell_type": "code",
   "execution_count": 49,
   "id": "ec0403ef",
   "metadata": {},
   "outputs": [],
   "source": [
    "# Trying to remove all \"cat\" in the list\n",
    "for i in range(len(becon)):\n",
    "    if becon[i] == \"cat\":\n",
    "        becon.remove(becon[i])"
   ]
  },
  {
   "cell_type": "code",
   "execution_count": 50,
   "id": "84fc29fd",
   "metadata": {},
   "outputs": [
    {
     "data": {
      "text/plain": [
       "[3.14, 11, True, 99]"
      ]
     },
     "execution_count": 50,
     "metadata": {},
     "output_type": "execute_result"
    }
   ],
   "source": [
    "becon"
   ]
  },
  {
   "cell_type": "markdown",
   "id": "cc23d2cf",
   "metadata": {},
   "source": [
    "#Q9: What are the list concatenation and list replication operators?\n",
    "\n",
    "# concatenat operator is = \"+\"\n",
    "# replication operator is = \"*\"\n"
   ]
  },
  {
   "cell_type": "code",
   "execution_count": 55,
   "id": "1fc91829",
   "metadata": {},
   "outputs": [],
   "source": [
    "#Q10:What is difference between the list methods append() and insert()?\n",
    "#Ans: while using insert function in list we have to insert a index number where we trying to insert the value, whereas\n",
    "#append function always insert value at the last in the list\n",
    "#insert function\n",
    "becon.insert(5, 20)"
   ]
  },
  {
   "cell_type": "code",
   "execution_count": 56,
   "id": "e31b5c7a",
   "metadata": {},
   "outputs": [
    {
     "data": {
      "text/plain": [
       "[3.14, 11, True, 99, 5, 20, 20]"
      ]
     },
     "execution_count": 56,
     "metadata": {},
     "output_type": "execute_result"
    }
   ],
   "source": [
    "\n",
    "becon"
   ]
  },
  {
   "cell_type": "code",
   "execution_count": 59,
   "id": "29762cf4",
   "metadata": {},
   "outputs": [
    {
     "data": {
      "text/plain": [
       "[3.14, 11, True, 99, 5, 20, 20, 20, 20]"
      ]
     },
     "execution_count": 59,
     "metadata": {},
     "output_type": "execute_result"
    }
   ],
   "source": [
    "#Appendix function\n",
    "\n",
    "becon.append(20)\n",
    "becon"
   ]
  },
  {
   "cell_type": "code",
   "execution_count": 64,
   "id": "778e6ee1",
   "metadata": {},
   "outputs": [
    {
     "data": {
      "text/plain": [
       "[3.14, 11, True, 99, 5, 20]"
      ]
     },
     "execution_count": 64,
     "metadata": {},
     "output_type": "execute_result"
    }
   ],
   "source": [
    "#Q11: What are the two methods for removing items from a list?\n",
    "# remove\n",
    "#POP\n",
    "becon\n",
    "becon.remove(20)"
   ]
  },
  {
   "cell_type": "code",
   "execution_count": 70,
   "id": "1fc5afa5",
   "metadata": {},
   "outputs": [
    {
     "data": {
      "text/plain": [
       "5"
      ]
     },
     "execution_count": 70,
     "metadata": {},
     "output_type": "execute_result"
    }
   ],
   "source": [
    "#POP we have to insert index number of particuler value which we are trying to remove\n",
    "becon.pop(4)"
   ]
  },
  {
   "cell_type": "code",
   "execution_count": 71,
   "id": "ed87243f",
   "metadata": {},
   "outputs": [
    {
     "data": {
      "text/plain": [
       "[3.14, 11, True, 99]"
      ]
     },
     "execution_count": 71,
     "metadata": {},
     "output_type": "execute_result"
    }
   ],
   "source": [
    "becon"
   ]
  },
  {
   "cell_type": "code",
   "execution_count": null,
   "id": "28bc07bd",
   "metadata": {},
   "outputs": [],
   "source": [
    "#Q12: Describe how list values and string values are identical.\n",
    "\n",
    "#Ans both store the data in sequence indexing"
   ]
  },
  {
   "cell_type": "code",
   "execution_count": null,
   "id": "a39db800",
   "metadata": {},
   "outputs": [],
   "source": [
    "#Q13: What's the difference between tuples and lists?\n",
    "\n",
    "#Ans list is mutable, however tuple is immutable "
   ]
  },
  {
   "cell_type": "code",
   "execution_count": 73,
   "id": "67f04330",
   "metadata": {},
   "outputs": [],
   "source": [
    "#Q14: How do you type a tuple value that only contains the integer 42?\n",
    "\n",
    "a = (42,)"
   ]
  },
  {
   "cell_type": "code",
   "execution_count": 75,
   "id": "3fe73d66",
   "metadata": {},
   "outputs": [
    {
     "data": {
      "text/plain": [
       "tuple"
      ]
     },
     "execution_count": 75,
     "metadata": {},
     "output_type": "execute_result"
    }
   ],
   "source": [
    "type(a)"
   ]
  },
  {
   "cell_type": "code",
   "execution_count": 78,
   "id": "64646c4d",
   "metadata": {},
   "outputs": [
    {
     "data": {
      "text/plain": [
       "[('v', 'i', 'r', 'u'),\n",
       " ('h', 'e', 'm', 'u'),\n",
       " ('n', 'a', 'r', 'u'),\n",
       " ('v', 'i', 'j', 'j', 'u')]"
      ]
     },
     "execution_count": 78,
     "metadata": {},
     "output_type": "execute_result"
    }
   ],
   "source": [
    "#Q15:How do you get a list value's tuple form? How do you get a tuple value's list form?\n",
    "\n",
    "\n",
    "\n",
    "\n",
    "list1 = [\"viru\", \"hemu\", \"naru\", \"vijju\"]\n",
    "list2 = list(map(tuple, list1))\n",
    "list2"
   ]
  },
  {
   "cell_type": "code",
   "execution_count": 80,
   "id": "de42f2d2",
   "metadata": {},
   "outputs": [
    {
     "data": {
      "text/plain": [
       "(1, 2)"
      ]
     },
     "execution_count": 80,
     "metadata": {},
     "output_type": "execute_result"
    }
   ],
   "source": [
    "a = [1, 2]\n",
    "a1 = tuple(a)\n",
    "a1"
   ]
  },
  {
   "cell_type": "code",
   "execution_count": 82,
   "id": "946899bd",
   "metadata": {},
   "outputs": [
    {
     "data": {
      "text/plain": [
       "[1, 2]"
      ]
     },
     "execution_count": 82,
     "metadata": {},
     "output_type": "execute_result"
    }
   ],
   "source": [
    "b = (1,2)\n",
    "b1 = list(a)\n",
    "b1"
   ]
  },
  {
   "cell_type": "code",
   "execution_count": null,
   "id": "6f9dc92e",
   "metadata": {},
   "outputs": [],
   "source": [
    "#Q16: Variables that \"contain\" list values are not necessarily lists themselves. Instead, what do they contain?\n",
    "\n",
    "#Ans contain the reference of the list value"
   ]
  },
  {
   "cell_type": "code",
   "execution_count": null,
   "id": "cddf434f",
   "metadata": {},
   "outputs": [],
   "source": [
    "#Q17: How do you distinguish between copy.copy() and copy.deepcopy()?\n",
    "#Ans: Output wise both are same but copy.copy creat a new memory object and the show data with the reference of original memory object\n",
    "# copy.deepcopy creat a complete new copy"
   ]
  },
  {
   "cell_type": "code",
   "execution_count": 83,
   "id": "0879f8d9",
   "metadata": {},
   "outputs": [
    {
     "data": {
      "text/plain": [
       "[1, 2, 2, 2, 2, 222]"
      ]
     },
     "execution_count": 83,
     "metadata": {},
     "output_type": "execute_result"
    }
   ],
   "source": [
    "import copy\n",
    "\n",
    "list12 = [1,2,2,2,2,222]\n",
    "list123 = copy.copy(list12)\n",
    "list123"
   ]
  },
  {
   "cell_type": "code",
   "execution_count": 85,
   "id": "7193bf56",
   "metadata": {},
   "outputs": [
    {
     "data": {
      "text/plain": [
       "[1, 2, 2, 2, 2, 222]"
      ]
     },
     "execution_count": 85,
     "metadata": {},
     "output_type": "execute_result"
    }
   ],
   "source": [
    "list1234 = copy.deepcopy(list12)\n",
    "list1234"
   ]
  },
  {
   "cell_type": "code",
   "execution_count": null,
   "id": "37e25a2f",
   "metadata": {},
   "outputs": [],
   "source": []
  }
 ],
 "metadata": {
  "kernelspec": {
   "display_name": "Python 3 (ipykernel)",
   "language": "python",
   "name": "python3"
  },
  "language_info": {
   "codemirror_mode": {
    "name": "ipython",
    "version": 3
   },
   "file_extension": ".py",
   "mimetype": "text/x-python",
   "name": "python",
   "nbconvert_exporter": "python",
   "pygments_lexer": "ipython3",
   "version": "3.9.12"
  }
 },
 "nbformat": 4,
 "nbformat_minor": 5
}
