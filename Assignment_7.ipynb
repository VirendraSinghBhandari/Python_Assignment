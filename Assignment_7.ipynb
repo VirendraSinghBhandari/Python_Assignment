{
 "cells": [
  {
   "cell_type": "markdown",
   "id": "5bce1432",
   "metadata": {},
   "source": [
    "# Q1. What is the name of the feature responsible for generating Regex objects?"
   ]
  },
  {
   "cell_type": "markdown",
   "id": "28543275",
   "metadata": {},
   "source": [
    "re.compile()"
   ]
  },
  {
   "cell_type": "code",
   "execution_count": 4,
   "id": "dc44c9e0",
   "metadata": {},
   "outputs": [
    {
     "data": {
      "text/plain": [
       "re.compile(r'string', re.UNICODE)"
      ]
     },
     "execution_count": 4,
     "metadata": {},
     "output_type": "execute_result"
    }
   ],
   "source": [
    "import re\n",
    "re.compile(\"string\")"
   ]
  },
  {
   "cell_type": "markdown",
   "id": "46d574d7",
   "metadata": {},
   "source": [
    "# Q2. Why do raw strings often appear in Regex objects?"
   ]
  },
  {
   "cell_type": "markdown",
   "id": "22f749ae",
   "metadata": {},
   "source": [
    "Ans: Raw strings are used so that backslashes do not have to be escaped. \n",
    "    Raw strings help you get the \"source code\" of a RegEx safely to the RegEx parser, \n",
    "    which will then assign meaning to character sequences like \\d , \\w , \\n , etc"
   ]
  },
  {
   "cell_type": "markdown",
   "id": "37a9dbf5",
   "metadata": {},
   "source": [
    "# Q3. What is the return value of the search() method?"
   ]
  },
  {
   "cell_type": "markdown",
   "id": "ceded674",
   "metadata": {},
   "source": [
    "Ans: While re. findall() returns matches of a substring found in a text, \n",
    "re. match() searches only from the beginning of a string and returns match object if found else it return -1 (none)."
   ]
  },
  {
   "cell_type": "markdown",
   "id": "4e628a2a",
   "metadata": {},
   "source": [
    "# 4. From a Match item, how do you get the actual strings that match the pattern?"
   ]
  },
  {
   "cell_type": "markdown",
   "id": "95eab981",
   "metadata": {},
   "source": [
    "Calling matchingObject.group() with the help of this funciton we can get the output "
   ]
  },
  {
   "cell_type": "markdown",
   "id": "1c2b6583",
   "metadata": {},
   "source": [
    "# 5. In the regex which created from the r&#39;(\\d\\d\\d)-(\\d\\d\\d-\\d\\d\\d\\d)&#39;, what does group zero cover? Group 2? Group 1?"
   ]
  },
  {
   "cell_type": "code",
   "execution_count": 30,
   "id": "35c76dfb",
   "metadata": {},
   "outputs": [
    {
     "data": {
      "text/plain": [
       "'858-456-9784'"
      ]
     },
     "execution_count": 30,
     "metadata": {},
     "output_type": "execute_result"
    }
   ],
   "source": [
    "contactregex = re.compile(r'(\\d\\d\\d)-(\\d\\d\\d-\\d\\d\\d\\d)')\n",
    "contact = contactregex.search('my contact number is 858-456-9784')\n",
    "contact.group(0)\n"
   ]
  },
  {
   "cell_type": "code",
   "execution_count": 31,
   "id": "b377aa83",
   "metadata": {},
   "outputs": [
    {
     "data": {
      "text/plain": [
       "'858'"
      ]
     },
     "execution_count": 31,
     "metadata": {},
     "output_type": "execute_result"
    }
   ],
   "source": [
    "contact.group(1)\n"
   ]
  },
  {
   "cell_type": "code",
   "execution_count": 32,
   "id": "9cce76ef",
   "metadata": {},
   "outputs": [
    {
     "data": {
      "text/plain": [
       "'456-9784'"
      ]
     },
     "execution_count": 32,
     "metadata": {},
     "output_type": "execute_result"
    }
   ],
   "source": [
    "contact.group(2)"
   ]
  },
  {
   "cell_type": "markdown",
   "id": "a3ced3f4",
   "metadata": {},
   "source": [
    "# 6. In standard expression syntax, parentheses and intervals have distinct meanings. How can you tell a regex that you want it to fit real parentheses and periods?"
   ]
  },
  {
   "cell_type": "raw",
   "id": "0a47b00a",
   "metadata": {},
   "source": [
    "Both can be scaped with backslash: \\. \\(, \\)"
   ]
  },
  {
   "cell_type": "markdown",
   "id": "bf02e814",
   "metadata": {},
   "source": [
    "# 7. The findall() method returns a string list or a list of string tuples. What causes it to return one of the two options?"
   ]
  },
  {
   "cell_type": "raw",
   "id": "8839b9b0",
   "metadata": {},
   "source": [
    "If the regex has no groups, a list of strings is returned. If the regex has groups, a list of tuples of strings is \n",
    "returned."
   ]
  },
  {
   "cell_type": "markdown",
   "id": "3fc5645e",
   "metadata": {},
   "source": [
    "# 8. In standard expressions, what does the | character mean?"
   ]
  },
  {
   "cell_type": "raw",
   "id": "80a8cbde",
   "metadata": {},
   "source": [
    "We can use this symbole lie or function"
   ]
  },
  {
   "cell_type": "code",
   "execution_count": 37,
   "id": "95ac3c32",
   "metadata": {},
   "outputs": [
    {
     "data": {
      "text/plain": [
       "'Reebok'"
      ]
     },
     "execution_count": 37,
     "metadata": {},
     "output_type": "execute_result"
    }
   ],
   "source": [
    "Shoesregex = re.compile(r'Reebok|addidas shoes')\n",
    "mo = Shoesregex.search('Reebok and puma shoes')\n",
    "mo.group()"
   ]
  },
  {
   "cell_type": "markdown",
   "id": "b680cff0",
   "metadata": {},
   "source": [
    "# 9. In regular expressions, what does the character stand for?"
   ]
  },
  {
   "cell_type": "raw",
   "id": "2f7e93ff",
   "metadata": {},
   "source": [
    "The ? character basically use for optional in regex. This will give us optional information "
   ]
  },
  {
   "cell_type": "code",
   "execution_count": 48,
   "id": "3aeec803",
   "metadata": {},
   "outputs": [
    {
     "data": {
      "text/plain": [
       "'addidas shoes'"
      ]
     },
     "execution_count": 48,
     "metadata": {},
     "output_type": "execute_result"
    }
   ],
   "source": [
    "Exampleregex = re.compile(r'addidas (sports)?shoes')\n",
    "mo = Exampleregex.search('I like to play with addidas shoes')\n",
    "mo.group()"
   ]
  },
  {
   "cell_type": "code",
   "execution_count": 49,
   "id": "bb4b6a4d",
   "metadata": {},
   "outputs": [
    {
     "data": {
      "text/plain": [
       "'addidas sportsshoes'"
      ]
     },
     "execution_count": 49,
     "metadata": {},
     "output_type": "execute_result"
    }
   ],
   "source": [
    "mo1 = Exampleregex.search('I like to play with addidas sportsshoes')\n",
    "mo1.group()"
   ]
  },
  {
   "cell_type": "markdown",
   "id": "e35f1818",
   "metadata": {},
   "source": [
    "# 10.In regular expressions, what is the difference between the + and * characters?"
   ]
  },
  {
   "cell_type": "raw",
   "id": "66d75200",
   "metadata": {},
   "source": [
    "The + matches one or more. The * matches zero or more"
   ]
  },
  {
   "cell_type": "markdown",
   "id": "241eb7dd",
   "metadata": {},
   "source": [
    "# 11. What is the difference between {4} and {4,5} in regular expression?"
   ]
  },
  {
   "cell_type": "raw",
   "id": "d67a91e4",
   "metadata": {},
   "source": [
    "{4} matches exactly only 4 instance of the provided group\n",
    "{4,5} mathch 4 and 5 instance of the provided group"
   ]
  },
  {
   "cell_type": "markdown",
   "id": "fa9f146a",
   "metadata": {},
   "source": [
    "# 12. What do you mean by the \\d, \\w, and \\s shorthand character classes signify in regular expressions?"
   ]
  },
  {
   "cell_type": "raw",
   "id": "51778922",
   "metadata": {},
   "source": [
    "The \\d, stands for single digit, Any numeric digit from 0 to 9\n",
    "\\w, stands for single word, Any letter, numeric digit, or the underscore character. (Think of this as matching “word” \n",
    "characters.)\n",
    "\\s stands for single space character, Any space, tab, or newline character. (Think of this as matching “space” \n",
    "characters.)"
   ]
  },
  {
   "cell_type": "markdown",
   "id": "52a035db",
   "metadata": {},
   "source": [
    "# 13. What do means by \\D, \\W, and \\S shorthand character classes signify in regular expressions?"
   ]
  },
  {
   "cell_type": "raw",
   "id": "1cb65ba0",
   "metadata": {},
   "source": [
    "\\D: any character Not a digit from 0 to 9\n",
    "\\W any character not a letter , numeric digit, or the underscore character\n",
    "\\S any character not a     space character, Any space, tab, or newline character"
   ]
  },
  {
   "cell_type": "markdown",
   "id": "70bfca43",
   "metadata": {},
   "source": [
    "# 14. What is the difference between .*? and .*?"
   ]
  },
  {
   "cell_type": "raw",
   "id": "1381c351",
   "metadata": {},
   "source": [
    ".* use for exact match\n",
    ".*? use for all possibble match"
   ]
  },
  {
   "cell_type": "markdown",
   "id": "e6a916c8",
   "metadata": {},
   "source": [
    "# 15. What is the syntax for matching both numbers and lowercase letters with a character class?"
   ]
  },
  {
   "cell_type": "raw",
   "id": "abbf9226",
   "metadata": {},
   "source": [
    "[0-9a-z] or [a-z0-9]"
   ]
  },
  {
   "cell_type": "markdown",
   "id": "01cff58c",
   "metadata": {},
   "source": [
    "# 16. What is the procedure for making a normal expression in regax case insensitive?"
   ]
  },
  {
   "cell_type": "code",
   "execution_count": null,
   "id": "67627689",
   "metadata": {},
   "outputs": [],
   "source": [
    "insert re.I or re.IGNORECASE as the second argument to re.compile() will make the matching case insensitive"
   ]
  },
  {
   "cell_type": "code",
   "execution_count": 52,
   "id": "1da5e9ac",
   "metadata": {},
   "outputs": [
    {
     "data": {
      "text/plain": [
       "'Python'"
      ]
     },
     "execution_count": 52,
     "metadata": {},
     "output_type": "execute_result"
    }
   ],
   "source": [
    "regex1 = re.compile(r'python', re.I)\n",
    "mo = regex1.search('Python is necessary for data analyts')\n",
    "mo.group()"
   ]
  },
  {
   "cell_type": "markdown",
   "id": "57c2704d",
   "metadata": {},
   "source": [
    "# 17. What does the . character normally match? What does it match if re.DOTALL is passed as 2nd argument in re.compile()?"
   ]
  },
  {
   "cell_type": "raw",
   "id": "dbb10f35",
   "metadata": {},
   "source": [
    "We use . character in mostly expression to match the exact character. The . character match everything except new line character\n",
    "if we use re.dotall in rnd argument than it will able to matach new line character as well "
   ]
  },
  {
   "cell_type": "markdown",
   "id": "0dccd1be",
   "metadata": {},
   "source": [
    "# 18. If numRegex = re.compile(r'\\d+'), what will numRegex.sub('X', '11 drummers, 10 pipers, five rings, 4 hen') return?"
   ]
  },
  {
   "cell_type": "code",
   "execution_count": 53,
   "id": "d770b744",
   "metadata": {},
   "outputs": [
    {
     "data": {
      "text/plain": [
       "'X drummers, X pipers, five rings, X hen'"
      ]
     },
     "execution_count": 53,
     "metadata": {},
     "output_type": "execute_result"
    }
   ],
   "source": [
    "numRegex = re.compile(r'\\d+')\n",
    "mo = numRegex.sub('X', '11 drummers, 10 pipers, five rings, 4 hen')\n",
    "mo"
   ]
  },
  {
   "cell_type": "markdown",
   "id": "cdd5e6fa",
   "metadata": {},
   "source": [
    "# 19. What does passing re.VERBOSE as the 2nd argument to re.compile() allow to do?"
   ]
  },
  {
   "cell_type": "raw",
   "id": "e89a0429",
   "metadata": {},
   "source": [
    "To add whitesapce and comments"
   ]
  },
  {
   "cell_type": "markdown",
   "id": "c5c85c98",
   "metadata": {},
   "source": [
    "# 20. How would you write a regex that match a number with comma for every three digits? It must match the given following:"
   ]
  },
  {
   "cell_type": "raw",
   "id": "4948c287",
   "metadata": {},
   "source": [
    "'42'\n",
    "'1,234'\n",
    "'6,368,745'\n",
    "\n",
    " but not the following:\n",
    "\n",
    "'12,34,567' (which has only two digits between the commas)\n",
    "'1234' (which lacks commas)"
   ]
  },
  {
   "cell_type": "code",
   "execution_count": 58,
   "id": "24da10a5",
   "metadata": {},
   "outputs": [
    {
     "data": {
      "text/plain": [
       "'42'"
      ]
     },
     "execution_count": 58,
     "metadata": {},
     "output_type": "execute_result"
    }
   ],
   "source": [
    "reg1 = re.compile(r'^\\d{1,3}(,\\d{3})*$')\n",
    "mo = reg1.search('42')\n",
    "mo.group()"
   ]
  },
  {
   "cell_type": "code",
   "execution_count": 60,
   "id": "82c03585",
   "metadata": {},
   "outputs": [
    {
     "data": {
      "text/plain": [
       "'1,234'"
      ]
     },
     "execution_count": 60,
     "metadata": {},
     "output_type": "execute_result"
    }
   ],
   "source": [
    "reg1 = re.compile(r'^\\d{1,3}(,\\d{3})*$')\n",
    "mo1 = reg1.search('1,234')\n",
    "mo1.group()"
   ]
  },
  {
   "cell_type": "code",
   "execution_count": 61,
   "id": "1fc24206",
   "metadata": {},
   "outputs": [
    {
     "data": {
      "text/plain": [
       "'6,368,745'"
      ]
     },
     "execution_count": 61,
     "metadata": {},
     "output_type": "execute_result"
    }
   ],
   "source": [
    "reg1 = re.compile(r'^\\d{1,3}(,\\d{3})*$')\n",
    "mo2 = reg1.search('6,368,745')\n",
    "mo2.group()"
   ]
  },
  {
   "cell_type": "markdown",
   "id": "376024e1",
   "metadata": {},
   "source": [
    "# 21. How would you write a regex that matches the full name of someone whose last name is Watanabe? You can assume that the first name that comes before it will always be one word that begins with a capital letter. The regex must match the following:"
   ]
  },
  {
   "cell_type": "raw",
   "id": "64a6b97b",
   "metadata": {},
   "source": [
    "'Haruto Watanabe'\n",
    "'Alice Watanabe'\n",
    "'RoboCop Watanabe'\n",
    "\n",
    "but not the following:\n",
    "\n",
    "'haruto Watanabe' (where the first name is not capitalized)\n",
    "'Mr. Watanabe' (where the preceding word has a nonletter character)\n",
    "'Watanabe' (which has no first name)\n",
    "'Haruto watanabe' (where Watanabe is not capitalized)"
   ]
  },
  {
   "cell_type": "code",
   "execution_count": 64,
   "id": "e0ec1658",
   "metadata": {},
   "outputs": [
    {
     "data": {
      "text/plain": [
       "'Haruto Watanabe'"
      ]
     },
     "execution_count": 64,
     "metadata": {},
     "output_type": "execute_result"
    }
   ],
   "source": [
    "name = re.compile(r'[A-Z][a-z]*\\sWatanabe')\n",
    "reg1 = re.compile(r'^\\d{1,3}(,\\d{3})*$')\n",
    "mo1 = name.search('Haruto Watanabe')\n",
    "mo1.group()"
   ]
  },
  {
   "cell_type": "code",
   "execution_count": 65,
   "id": "5d6d8732",
   "metadata": {},
   "outputs": [
    {
     "data": {
      "text/plain": [
       "'Alice Watanabe'"
      ]
     },
     "execution_count": 65,
     "metadata": {},
     "output_type": "execute_result"
    }
   ],
   "source": [
    "name = re.compile(r'[A-Z][a-z]*\\sWatanabe')\n",
    "reg1 = re.compile(r'^\\d{1,3}(,\\d{3})*$')\n",
    "mo1 = name.search('Alice Watanabe')\n",
    "mo1.group()"
   ]
  },
  {
   "cell_type": "code",
   "execution_count": 70,
   "id": "79cb8e07",
   "metadata": {},
   "outputs": [
    {
     "data": {
      "text/plain": [
       "'Robocop Watanabe'"
      ]
     },
     "execution_count": 70,
     "metadata": {},
     "output_type": "execute_result"
    }
   ],
   "source": [
    "name = re.compile(r'[A-Z][a-z]*\\sWatanabe')\n",
    "reg1 = re.compile(r'^\\d{1,5}(,\\d{5})*$')\n",
    "mo1 = name.search('Robocop Watanabe')\n",
    "mo1.group()"
   ]
  },
  {
   "cell_type": "markdown",
   "id": "b5b9ff2a",
   "metadata": {},
   "source": [
    "# 22. How would you write a regex that matches a sentence where the first word is either Alice, Bob, or Carol; the second word is either eats, pets, or throws; the third word is apples, cats, or baseballs; and the sentence ends with a period? This regex should be case-insensitive. It must match the following:"
   ]
  },
  {
   "cell_type": "raw",
   "id": "17fe577b",
   "metadata": {},
   "source": [
    "'Alice eats apples.'\n",
    "'Bob pets cats.'\n",
    "'Carol throws baseballs.'\n",
    "'Alice throws Apples.'\n",
    "'BOB EATS CATS.'\n",
    "\n",
    "but not the following:\n",
    "\n",
    "'RoboCop eats apples.'\n",
    "'ALICE THROWS FOOTBALLS.'\n",
    "'Carol eats 7 cats.'"
   ]
  },
  {
   "cell_type": "code",
   "execution_count": 74,
   "id": "26a6ca28",
   "metadata": {},
   "outputs": [
    {
     "data": {
      "text/plain": [
       "'Alice eats apples.'"
      ]
     },
     "execution_count": 74,
     "metadata": {},
     "output_type": "execute_result"
    }
   ],
   "source": [
    "name = re.compile(r'(Alice|Bob|Carol)\\s(eats|pets|throws)\\s(apples|cats|baseballs)\\.', re.I)\n",
    "mo = name.search('Alice eats apples.')\n",
    "mo.group()"
   ]
  },
  {
   "cell_type": "code",
   "execution_count": 75,
   "id": "608fecc4",
   "metadata": {},
   "outputs": [
    {
     "data": {
      "text/plain": [
       "'Bob pets cats.'"
      ]
     },
     "execution_count": 75,
     "metadata": {},
     "output_type": "execute_result"
    }
   ],
   "source": [
    "name = re.compile(r'(Alice|Bob|Carol)\\s(eats|pets|throws)\\s(apples|cats|baseballs)\\.', re.I)\n",
    "mo1 = name.search('Bob pets cats.')\n",
    "mo1.group()"
   ]
  },
  {
   "cell_type": "code",
   "execution_count": 76,
   "id": "87089d5c",
   "metadata": {},
   "outputs": [
    {
     "data": {
      "text/plain": [
       "'Carol throws baseballs.'"
      ]
     },
     "execution_count": 76,
     "metadata": {},
     "output_type": "execute_result"
    }
   ],
   "source": [
    "name = re.compile(r'(Alice|Bob|Carol)\\s(eats|pets|throws)\\s(apples|cats|baseballs)\\.', re.I)\n",
    "mo2 = name.search('Carol throws baseballs.')\n",
    "mo2.group()"
   ]
  },
  {
   "cell_type": "code",
   "execution_count": 77,
   "id": "0939eb93",
   "metadata": {},
   "outputs": [
    {
     "data": {
      "text/plain": [
       "'Alice throws Apples.'"
      ]
     },
     "execution_count": 77,
     "metadata": {},
     "output_type": "execute_result"
    }
   ],
   "source": [
    "name = re.compile(r'(Alice|Bob|Carol)\\s(eats|pets|throws)\\s(apples|cats|baseballs)\\.', re.I)\n",
    "mo3 = name.search('Alice throws Apples.')\n",
    "mo3.group()"
   ]
  },
  {
   "cell_type": "code",
   "execution_count": 78,
   "id": "ab607779",
   "metadata": {},
   "outputs": [
    {
     "data": {
      "text/plain": [
       "'BOB EATS CATS.'"
      ]
     },
     "execution_count": 78,
     "metadata": {},
     "output_type": "execute_result"
    }
   ],
   "source": [
    "name = re.compile(r'(Alice|Bob|Carol)\\s(eats|pets|throws)\\s(apples|cats|baseballs)\\.', re.I)\n",
    "mo3 = name.search('BOB EATS CATS.')\n",
    "mo3.group()"
   ]
  },
  {
   "cell_type": "code",
   "execution_count": null,
   "id": "f5a9dc6f",
   "metadata": {},
   "outputs": [],
   "source": []
  }
 ],
 "metadata": {
  "kernelspec": {
   "display_name": "Python 3 (ipykernel)",
   "language": "python",
   "name": "python3"
  },
  "language_info": {
   "codemirror_mode": {
    "name": "ipython",
    "version": 3
   },
   "file_extension": ".py",
   "mimetype": "text/x-python",
   "name": "python",
   "nbconvert_exporter": "python",
   "pygments_lexer": "ipython3",
   "version": "3.9.12"
  }
 },
 "nbformat": 4,
 "nbformat_minor": 5
}
